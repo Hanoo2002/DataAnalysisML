{
 "cells": [
  {
   "cell_type": "code",
   "execution_count": 190,
   "metadata": {},
   "outputs": [],
   "source": [
    "import seaborn as sns \n",
    "import pandas as pd\n",
    "import numpy as np\n",
    "from sklearn.model_selection import train_test_split\n",
    "import matplotlib.pyplot as plt\n",
    "from scipy.cluster.hierarchy import dendrogram, linkage\n",
    "from scipy.spatial.distance import squareform\n",
    "from sklearn.decomposition import PCA\n",
    "from sklearn.preprocessing import StandardScaler\n",
    "from dataprep import eda \n",
    "from sklearn.tree import DecisionTreeClassifier\n",
    "from sklearn.model_selection import GridSearchCV\n",
    "from sklearn.metrics import accuracy_score\n",
    "from sklearn.model_selection import RandomizedSearchCV\n",
    "from sklearn.base import BaseEstimator, ClassifierMixin\n",
    "from sklearn.linear_model import LogisticRegression\n",
    "from sklearn.model_selection import ParameterGrid"
   ]
  },
  {
   "cell_type": "code",
   "execution_count": 2,
   "metadata": {},
   "outputs": [],
   "source": [
    "epsilon=1e-8"
   ]
  },
  {
   "cell_type": "code",
   "execution_count": 3,
   "metadata": {},
   "outputs": [],
   "source": [
    "train_no_out= pd.read_csv(\"data_no_outliers.csv\")\n",
    "x_train = train_no_out.drop(['smoking'],axis=1)\n",
    "y_train = train_no_out['smoking']\n",
    "\n",
    "\n",
    "\n",
    "test = pd.read_csv(\"test_data.csv\")\n",
    "\n",
    "val = pd.read_csv(\"validation_data.csv\")\n"
   ]
  },
  {
   "cell_type": "code",
   "execution_count": 4,
   "metadata": {},
   "outputs": [
    {
     "name": "stdout",
     "output_type": "stream",
     "text": [
      "<class 'pandas.core.frame.DataFrame'>\n",
      "RangeIndex: 101819 entries, 0 to 101818\n",
      "Data columns (total 12 columns):\n",
      " #   Column                  Non-Null Count   Dtype  \n",
      "---  ------                  --------------   -----  \n",
      " 0   weight(kg)              101819 non-null  int64  \n",
      " 1   HDL                     101819 non-null  int64  \n",
      " 2   LDL                     101819 non-null  int64  \n",
      " 3   Cholesterol             101819 non-null  int64  \n",
      " 4   hemoglobin              101819 non-null  float64\n",
      " 5   eyesight(right)         101819 non-null  float64\n",
      " 6   AST                     101819 non-null  int64  \n",
      " 7   waist(cm)               101819 non-null  float64\n",
      " 8   triglyceride            101819 non-null  int64  \n",
      " 9   HDL-LDL Ratio           101819 non-null  float64\n",
      " 10  HDL-triglyceride Ratio  101819 non-null  float64\n",
      " 11  LDL-triglyceride Ratio  101819 non-null  float64\n",
      "dtypes: float64(6), int64(6)\n",
      "memory usage: 9.3 MB\n"
     ]
    }
   ],
   "source": [
    "x_train.info()"
   ]
  },
  {
   "cell_type": "code",
   "execution_count": 5,
   "metadata": {},
   "outputs": [],
   "source": [
    "test[\"HDL-LDL Ratio\"] = test[\"HDL\"] / test[\"LDL\"]\n",
    "test[\"HDL-triglyceride Ratio\"] = test[\"HDL\"] / test[\"triglyceride\"]\n",
    "test[\"LDL-triglyceride Ratio\"] = test[\"LDL\"] / test[\"triglyceride\"]\n"
   ]
  },
  {
   "cell_type": "code",
   "execution_count": 6,
   "metadata": {},
   "outputs": [],
   "source": [
    "val[\"HDL-LDL Ratio\"] = val[\"HDL\"] / val[\"LDL\"]\n",
    "val[\"HDL-triglyceride Ratio\"] = val[\"HDL\"] / val[\"triglyceride\"]\n",
    "val[\"LDL-triglyceride Ratio\"] = val[\"LDL\"] / val[\"triglyceride\"]\n"
   ]
  },
  {
   "cell_type": "code",
   "execution_count": 7,
   "metadata": {},
   "outputs": [],
   "source": [
    "test= test.drop(['hearing(left)'],axis=1)\n",
    "val= val.drop(['hearing(left)'],axis=1)\n"
   ]
  },
  {
   "cell_type": "code",
   "execution_count": 8,
   "metadata": {},
   "outputs": [],
   "source": [
    "x_test= test.drop(['smoking'],axis=1)\n",
    "y_test = test['smoking']\n",
    "\n",
    "x_val = val.drop([\"smoking\"],axis=1)\n",
    "y_val = val['smoking']"
   ]
  },
  {
   "cell_type": "code",
   "execution_count": 9,
   "metadata": {},
   "outputs": [],
   "source": [
    "skew_data = [\"HDL\",'LDL','eyesight(right)','AST','triglyceride'\n",
    "           ,\"HDL-LDL Ratio\",\"HDL-triglyceride Ratio\",\"LDL-triglyceride Ratio\"]\n",
    "\n",
    "norm_data = [\"weight(kg)\", \"Cholesterol\",\"hemoglobin\",\"waist(cm)\"]"
   ]
  },
  {
   "cell_type": "code",
   "execution_count": 10,
   "metadata": {},
   "outputs": [],
   "source": [
    "x_train[skew_data] = np.log(x_train[skew_data])"
   ]
  },
  {
   "cell_type": "code",
   "execution_count": 11,
   "metadata": {},
   "outputs": [],
   "source": [
    "x_test[skew_data] = np.log(x_test[skew_data])"
   ]
  },
  {
   "cell_type": "code",
   "execution_count": 12,
   "metadata": {},
   "outputs": [],
   "source": [
    "x_val[skew_data] = np.log(x_val[skew_data])"
   ]
  },
  {
   "cell_type": "code",
   "execution_count": 13,
   "metadata": {},
   "outputs": [],
   "source": [
    "s = StandardScaler()\n",
    "x_train[norm_data]=s.fit_transform(x_train[norm_data])"
   ]
  },
  {
   "cell_type": "code",
   "execution_count": 14,
   "metadata": {},
   "outputs": [],
   "source": [
    "x_test[norm_data]=s.transform(x_test[norm_data])"
   ]
  },
  {
   "cell_type": "code",
   "execution_count": 15,
   "metadata": {},
   "outputs": [],
   "source": [
    "x_val[norm_data]=s.transform(x_val[norm_data])"
   ]
  },
  {
   "cell_type": "code",
   "execution_count": 114,
   "metadata": {},
   "outputs": [],
   "source": [
    "class BaggedLogisticRegressionClassifier(BaseEstimator, ClassifierMixin):\n",
    "    \n",
    "    def __init__(self, num_of_bagged=20, base_model_params=None):\n",
    "        self.num_of_bagged = num_of_bagged\n",
    "        self.base_model_params = base_model_params if base_model_params else {'max_iter': 1000}\n",
    "        self.models = [LogisticRegression(**self.base_model_params) for _ in range(num_of_bagged)]\n",
    "\n",
    "    def fit(self, X, y):\n",
    "        self.models = []  # Clear existing models\n",
    "\n",
    "        for _ in range(self.num_of_bagged):\n",
    "            indices = np.random.choice(len(X), size=len(X), replace=True)\n",
    "            X_subset, y_subset = X.iloc[indices], y.iloc[indices]\n",
    "\n",
    "            model = LogisticRegression(**self.base_model_params)\n",
    "            model.fit(X_subset, y_subset)\n",
    "\n",
    "            self.models.append(model)\n",
    "    \n",
    "    def predict(self, X):\n",
    "        predictions = np.zeros((len(X), self.num_of_bagged))\n",
    "\n",
    "        for i, model in enumerate(self.models):\n",
    "            predictions[:, i] = model.predict(X)\n",
    "\n",
    "        avg_predictions = np.mean(predictions, axis=1)\n",
    "        binary_predictions = (avg_predictions >= 0.5).astype(int)\n",
    "\n",
    "        return binary_predictions\n",
    "    \n",
    "    def acc(self, y_true, y_pred):\n",
    "        return np.mean(y_true == y_pred)\n",
    "\n",
    "    def get_params(self, deep=True):\n",
    "        return {\n",
    "            'num_of_bagged': self.num_of_bagged,\n",
    "            'base_model_params': self.base_model_params,\n",
    "        }\n",
    "\n",
    "    def set_params(self, **params):\n",
    "        if not params:\n",
    "            return self\n",
    "\n",
    "        for param, value in params.items():\n",
    "            setattr(self, param, value)\n",
    "\n",
    "        self.models = [LogisticRegression(**self.base_model_params) for _ in range(self.num_of_bagged)]  # Reset models\n",
    "        return self"
   ]
  },
  {
   "cell_type": "code",
   "execution_count": 115,
   "metadata": {},
   "outputs": [],
   "source": [
    "class BaggedDecisionTreeClassifier(BaseEstimator, ClassifierMixin):\n",
    "    \n",
    "    def __init__(self, num_of_bagged=20, base_model_params=None):\n",
    "        self.num_of_bagged = num_of_bagged\n",
    "        self.base_model_params = base_model_params if base_model_params else {'max_depth': None}\n",
    "        self.models = [DecisionTreeClassifier(**self.base_model_params) for _ in range(num_of_bagged)]\n",
    "\n",
    "    def fit(self, X, y):\n",
    "        self.models = []  # Clear existing models\n",
    "\n",
    "        for _ in range(self.num_of_bagged):\n",
    "            indices = np.random.choice(len(X), size=len(X), replace=True)\n",
    "            X_subset, y_subset = X.iloc[indices], y.iloc[indices]\n",
    "\n",
    "            model = DecisionTreeClassifier(**self.base_model_params)\n",
    "            model.fit(X_subset, y_subset)\n",
    "\n",
    "            self.models.append(model)\n",
    "    \n",
    "    def predict(self, X):\n",
    "        predictions = np.zeros((len(X), self.num_of_bagged))\n",
    "\n",
    "        for i, model in enumerate(self.models):\n",
    "            predictions[:, i] = model.predict(X)\n",
    "\n",
    "        avg_predictions = np.mean(predictions, axis=1)\n",
    "        binary_predictions = (avg_predictions >= 0.5).astype(int)\n",
    "\n",
    "        return binary_predictions\n",
    "    \n",
    "    def acc(self, y_true, y_pred):\n",
    "        return np.mean(y_true == y_pred)\n",
    "\n",
    "    def get_params(self, deep=True):\n",
    "        return {\n",
    "            'num_of_bagged': self.num_of_bagged,\n",
    "            'base_model_params': self.base_model_params,\n",
    "        }\n",
    "\n",
    "    def set_params(self, **params):\n",
    "        if not params:\n",
    "            return self\n",
    "\n",
    "        for param, value in params.items():\n",
    "            setattr(self, param, value)\n",
    "\n",
    "        self.models = [DecisionTreeClassifier(**self.base_model_params) for _ in range(self.num_of_bagged)]  # Reset models\n",
    "        return self"
   ]
  },
  {
   "cell_type": "code",
   "execution_count": 116,
   "metadata": {},
   "outputs": [],
   "source": [
    "bdtc=BaggedLogisticRegressionClassifier()"
   ]
  },
  {
   "cell_type": "code",
   "execution_count": 117,
   "metadata": {},
   "outputs": [],
   "source": [
    "bdtc.fit(x_train,y_train)"
   ]
  },
  {
   "cell_type": "code",
   "execution_count": 118,
   "metadata": {},
   "outputs": [],
   "source": [
    "y_pred=bdtc.predict(x_test)"
   ]
  },
  {
   "cell_type": "code",
   "execution_count": 119,
   "metadata": {},
   "outputs": [
    {
     "data": {
      "text/plain": [
       "0.7248409243134628"
      ]
     },
     "execution_count": 119,
     "metadata": {},
     "output_type": "execute_result"
    }
   ],
   "source": [
    "bdtc.acc(y_test,y_pred)"
   ]
  },
  {
   "cell_type": "code",
   "execution_count": 120,
   "metadata": {},
   "outputs": [],
   "source": [
    "bdtc2=BaggedLogisticRegressionClassifier()"
   ]
  },
  {
   "cell_type": "code",
   "execution_count": 121,
   "metadata": {},
   "outputs": [],
   "source": [
    "param_grid = {\n",
    "    'n_estimators': [25, 30, 40,  50, 80, 100],\n",
    "    'base_model_params': [{'max_depth': d} for d in [1, 2, 3]]\n",
    "}"
   ]
  },
  {
   "cell_type": "code",
   "execution_count": 122,
   "metadata": {},
   "outputs": [],
   "source": [
    "param_grid = {\n",
    "    'n_estimators': [25, 30, 40,  50, 80, 100],\n",
    "    'base_model_params': [0.01,0.001,0.1,0.0001]\n",
    "}"
   ]
  },
  {
   "cell_type": "code",
   "execution_count": 123,
   "metadata": {},
   "outputs": [],
   "source": [
    "grid_search = GridSearchCV(estimator=bdtc2, param_grid=param_grid, cv=3, scoring='accuracy')\n"
   ]
  },
  {
   "cell_type": "code",
   "execution_count": 124,
   "metadata": {},
   "outputs": [],
   "source": [
    "bdtc2.fit(x_train, y_train)"
   ]
  },
  {
   "cell_type": "code",
   "execution_count": 125,
   "metadata": {},
   "outputs": [],
   "source": [
    "y_pred=bdtc2.predict(x_test)"
   ]
  },
  {
   "cell_type": "code",
   "execution_count": 126,
   "metadata": {},
   "outputs": [
    {
     "data": {
      "text/plain": [
       "0.724715338245144"
      ]
     },
     "execution_count": 126,
     "metadata": {},
     "output_type": "execute_result"
    }
   ],
   "source": [
    "bdtc2.acc(y_test,y_pred)"
   ]
  },
  {
   "cell_type": "code",
   "execution_count": 127,
   "metadata": {},
   "outputs": [],
   "source": [
    "bdtc3=BaggedLogisticRegressionClassifier()"
   ]
  },
  {
   "cell_type": "code",
   "execution_count": 128,
   "metadata": {},
   "outputs": [],
   "source": [
    "random_search = RandomizedSearchCV(bdtc3, param_grid, cv=3, scoring=\"accuracy\")\n"
   ]
  },
  {
   "cell_type": "code",
   "execution_count": 129,
   "metadata": {},
   "outputs": [],
   "source": [
    "bdtc3.fit(x_train, y_train)"
   ]
  },
  {
   "cell_type": "code",
   "execution_count": 130,
   "metadata": {},
   "outputs": [],
   "source": [
    "y_pred=bdtc3.predict(x_test)"
   ]
  },
  {
   "cell_type": "code",
   "execution_count": 131,
   "metadata": {},
   "outputs": [
    {
     "data": {
      "text/plain": [
       "0.724715338245144"
      ]
     },
     "execution_count": 131,
     "metadata": {},
     "output_type": "execute_result"
    }
   ],
   "source": [
    "bdtc3.acc(y_test,y_pred)"
   ]
  },
  {
   "cell_type": "code",
   "execution_count": 159,
   "metadata": {},
   "outputs": [
    {
     "name": "stdout",
     "output_type": "stream",
     "text": [
      "Best Parameters from Grid Search: {'num_of_bagged': 10, 'base_model_params': {'max_iter': 2000}}\n",
      "Best Accuracy from Grid Search: 0.7264012725522206\n"
     ]
    }
   ],
   "source": [
    "# Define the hyperparameter grid\n",
    "grid_search_params = {\n",
    "    'num_of_bagged': [10, 50, 100],\n",
    "    'base_model_params': [{'max_iter': 1000}, {'max_iter': 2000}, {'max_iter': 500}]\n",
    "}\n",
    "\n",
    "best_accuracy = 0.0\n",
    "best_params = {}\n",
    "\n",
    "# Perform manual grid search\n",
    "for num_of_bagged in grid_search_params['num_of_bagged']:\n",
    "    for base_model_param in grid_search_params['base_model_params']:\n",
    "        # Create and train the BaggedLogisticRegressionClassifier\n",
    "        bagged_model = BaggedLogisticRegressionClassifier(num_of_bagged=num_of_bagged, base_model_params=base_model_param)\n",
    "        bagged_model.fit(x_train, y_train)\n",
    "\n",
    "        # Make predictions on the validation set\n",
    "        predictions = bagged_model.predict(x_val)\n",
    "\n",
    "        # Calculate accuracy\n",
    "        accuracy = accuracy_score(y_val, predictions)\n",
    "\n",
    "        # Update best parameters if accuracy is higher\n",
    "        if accuracy > best_accuracy:\n",
    "            best_accuracy = accuracy\n",
    "            best_params = {'num_of_bagged': num_of_bagged, 'base_model_params': base_model_param}\n",
    "\n",
    "print(\"Best Parameters from Grid Search:\", best_params)\n",
    "print(\"Best Accuracy from Grid Search:\", best_accuracy)\n"
   ]
  },
  {
   "cell_type": "code",
   "execution_count": 192,
   "metadata": {},
   "outputs": [],
   "source": [
    "bagging_acc = 0.7264012725522206"
   ]
  },
  {
   "cell_type": "markdown",
   "metadata": {},
   "source": [
    "### Boosting AdaBoost"
   ]
  },
  {
   "cell_type": "code",
   "execution_count": 145,
   "metadata": {},
   "outputs": [],
   "source": [
    "def accuracy(y_true, y_pred):\n",
    "    accuracy = np.sum(y_true == y_pred) / len(y_true)\n",
    "    return accuracy"
   ]
  },
  {
   "cell_type": "code",
   "execution_count": 146,
   "metadata": {},
   "outputs": [],
   "source": [
    "\n",
    "class MyAdaBoost(BaseEstimator, ClassifierMixin):\n",
    "    def __init__(self, n_estimators=5):\n",
    "        self.n_estimators = n_estimators\n",
    "        self.models = []\n",
    "        self.alphas = []\n",
    "\n",
    "    def fit(self, X, y):\n",
    "        n_samples, n_features = X.shape\n",
    "        w = np.full(n_samples, (1/n_samples))\n",
    "\n",
    "        for _ in range(self.n_estimators):\n",
    "            model = DecisionTreeClassifier(max_depth=1)\n",
    "            model.fit(X, y, sample_weight=w)\n",
    "\n",
    "            predictions = model.predict(X)\n",
    "\n",
    "            error = np.sum(w * (predictions != y))\n",
    "            alpha = 0.5 * np.log((1 - error) / max(error, 1e-10))\n",
    "\n",
    "            w *= np.exp(-alpha * y * predictions)\n",
    "            w /= np.sum(w)\n",
    "\n",
    "            self.models.append(model)\n",
    "            self.alphas.append(alpha)\n",
    "\n",
    "    def predict(self, X):\n",
    "        predictions = np.zeros(len(X))\n",
    "\n",
    "        for model, alpha in zip(self.models, self.alphas):\n",
    "            predictions += alpha * model.predict(X)\n",
    "        return np.sign(predictions)\n",
    "\n",
    "    def get_params(self, deep=True):\n",
    "        return {\n",
    "            'n_estimators': self.n_estimators,\n",
    "        }\n",
    "\n",
    "    def set_params(self, **params):\n",
    "        if not params:\n",
    "            return self\n",
    "\n",
    "        for param, value in params.items():\n",
    "            setattr(self, param, value)\n",
    "\n",
    "        return self\n"
   ]
  },
  {
   "cell_type": "code",
   "execution_count": 147,
   "metadata": {},
   "outputs": [],
   "source": [
    "clf = MyAdaBoost()\n",
    "clf.fit(x_train, y_train)\n",
    "\n"
   ]
  },
  {
   "cell_type": "code",
   "execution_count": 148,
   "metadata": {},
   "outputs": [
    {
     "name": "stdout",
     "output_type": "stream",
     "text": [
      "0.6935699933020764\n"
     ]
    }
   ],
   "source": [
    "y_pred = clf.predict(x_test)\n",
    "acc = accuracy(y_test, y_pred)\n",
    "print(acc)"
   ]
  },
  {
   "cell_type": "code",
   "execution_count": 149,
   "metadata": {},
   "outputs": [],
   "source": [
    "param_grid = {\n",
    "    'n_estimators': [20, 30, 100, 150 , 200, 300]\n",
    "}"
   ]
  },
  {
   "cell_type": "code",
   "execution_count": 150,
   "metadata": {},
   "outputs": [],
   "source": [
    "clf2 = MyAdaBoost()\n",
    "grid_search = GridSearchCV(estimator=clf2, param_grid=param_grid, cv=3, scoring='accuracy')\n"
   ]
  },
  {
   "cell_type": "code",
   "execution_count": 151,
   "metadata": {},
   "outputs": [],
   "source": [
    "clf2.fit(x_train,y_train)"
   ]
  },
  {
   "cell_type": "code",
   "execution_count": 152,
   "metadata": {},
   "outputs": [
    {
     "name": "stdout",
     "output_type": "stream",
     "text": [
      "0.6935699933020764\n"
     ]
    }
   ],
   "source": [
    "y_pred = clf2.predict(x_test)\n",
    "acc = accuracy(y_test, y_pred)\n",
    "print(acc)"
   ]
  },
  {
   "cell_type": "code",
   "execution_count": 156,
   "metadata": {},
   "outputs": [],
   "source": [
    "clf3 = MyAdaBoost()\n",
    "grid_search = RandomizedSearchCV(estimator=clf3, param_distributions=param_grid, cv=3, scoring='accuracy')\n"
   ]
  },
  {
   "cell_type": "code",
   "execution_count": 157,
   "metadata": {},
   "outputs": [
    {
     "name": "stdout",
     "output_type": "stream",
     "text": [
      "0.5592347622237106\n"
     ]
    }
   ],
   "source": [
    "y_pred = clf3.predict(x_test)\n",
    "acc = accuracy(y_test, y_pred)\n",
    "print(acc)"
   ]
  },
  {
   "cell_type": "code",
   "execution_count": 162,
   "metadata": {},
   "outputs": [
    {
     "name": "stdout",
     "output_type": "stream",
     "text": [
      "Best Parameters from Grid Search: {'n_estimators': 50}\n",
      "Best Accuracy from Grid Search: 0.6935409602746033\n"
     ]
    }
   ],
   "source": [
    "# Define the hyperparameter grid\n",
    "grid_search_params = {\n",
    "    'n_estimators': [50, 100, 150,200],\n",
    "}\n",
    "\n",
    "best_accuracy = 0.0\n",
    "best_params = {}\n",
    "\n",
    "# Perform manual grid search\n",
    "for n_estimators in grid_search_params['n_estimators']:\n",
    "    # Create and train the MyAdaBoost classifier\n",
    "    ada_boost_model = MyAdaBoost(n_estimators=n_estimators)\n",
    "    ada_boost_model.fit(x_train, y_train)\n",
    "\n",
    "    # Make predictions on the validation set\n",
    "    predictions = ada_boost_model.predict(x_val)\n",
    "\n",
    "    # Calculate accuracy\n",
    "    accuracy = accuracy_score(y_val, predictions)\n",
    "\n",
    "    # Update best parameters if accuracy is higher\n",
    "    if accuracy > best_accuracy:\n",
    "        best_accuracy = accuracy\n",
    "        best_params = {'n_estimators': n_estimators}\n",
    "\n",
    "print(\"Best Parameters from Grid Search:\", best_params)\n",
    "print(\"Best Accuracy from Grid Search:\", best_accuracy)\n"
   ]
  },
  {
   "cell_type": "code",
   "execution_count": 193,
   "metadata": {},
   "outputs": [],
   "source": [
    "boosting_acc = 0.6935409602746033"
   ]
  },
  {
   "cell_type": "markdown",
   "metadata": {},
   "source": [
    "### RandomForest"
   ]
  },
  {
   "cell_type": "code",
   "execution_count": 178,
   "metadata": {},
   "outputs": [],
   "source": [
    "class MyRandomForest:\n",
    "    def __init__(self, n_estimators=100, max_depth=None, min_samples_split=2, min_samples_leaf=1):\n",
    "        self.n_estimators = n_estimators\n",
    "        self.max_depth = max_depth\n",
    "        self.min_samples_split = min_samples_split\n",
    "        self.min_samples_leaf = min_samples_leaf\n",
    "        self.models = []\n",
    "\n",
    "    def fit(self, x, y):\n",
    "        x = np.array(x)\n",
    "        y = np.array(y)\n",
    "        n_samples, n_features = x.shape\n",
    "        for _ in range(self.n_estimators):\n",
    "            selected_features = np.random.choice(n_features, size=int(np.sqrt(n_features)), replace=False)\n",
    "            x_subset = x[:, selected_features]\n",
    "\n",
    "            tree = DecisionTreeClassifier(\n",
    "                max_depth=self.max_depth,\n",
    "                min_samples_split=self.min_samples_split,\n",
    "                min_samples_leaf=self.min_samples_leaf\n",
    "            )\n",
    "            tree.fit(x_subset, y)\n",
    "            self.models.append((tree, selected_features))\n",
    "        return self\n",
    "\n",
    "    def predict(self, x):\n",
    "        x = np.array(x)\n",
    "        pred = np.zeros((x.shape[0], self.n_estimators))\n",
    "        for i, (tree, selected_features) in enumerate(self.models):\n",
    "            x_subset = x[:, selected_features]\n",
    "            pred[:, i] = tree.predict(x_subset)\n",
    "\n",
    "        # Use majority voting for the final prediction\n",
    "        final_predictions = np.apply_along_axis(lambda x: np.bincount(x.astype(int)).argmax(), axis=1, arr=pred)\n",
    "        return final_predictions\n",
    "    \n",
    "    def acc(self, X, y):\n",
    "        predictions = self.predict(X)\n",
    "        accuracy = np.mean(predictions == y)\n",
    "        return accuracy\n",
    "\n",
    "    def get_params(self, deep=True):\n",
    "        return {\n",
    "            'n_estimators': self.n_estimators,\n",
    "            'max_depth': self.max_depth,\n",
    "            'min_samples_split': self.min_samples_split,\n",
    "            'min_samples_leaf': self.min_samples_leaf\n",
    "        }\n",
    "\n",
    "    def set_params(self, **params):\n",
    "        if not params:\n",
    "            return self\n",
    "\n",
    "        for param, value in params.items():\n",
    "            setattr(self, param, value)\n",
    "\n",
    "        return self"
   ]
  },
  {
   "cell_type": "code",
   "execution_count": 179,
   "metadata": {},
   "outputs": [
    {
     "data": {
      "text/plain": [
       "<__main__.MyRandomForest at 0x7f877caaf8e0>"
      ]
     },
     "execution_count": 179,
     "metadata": {},
     "output_type": "execute_result"
    }
   ],
   "source": [
    "\n",
    "random_forest = MyRandomForest()\n",
    "random_forest.fit(x_train, y_train)\n"
   ]
  },
  {
   "cell_type": "code",
   "execution_count": 181,
   "metadata": {},
   "outputs": [
    {
     "name": "stdout",
     "output_type": "stream",
     "text": [
      "Random Forest Accuracy: 0.7073425987943738\n"
     ]
    }
   ],
   "source": [
    "y_pred= random_forest.predict(x_test)\n",
    "rf_accuracy = accuracy_score(y_test, y_pred)\n",
    "print(f\"Random Forest Accuracy: {rf_accuracy}\")"
   ]
  },
  {
   "cell_type": "code",
   "execution_count": 185,
   "metadata": {},
   "outputs": [],
   "source": [
    "param_grid_random_forest = {\n",
    "    'n_estimators': [50,100,200],\n",
    "    'max_depth': [1, 5, 10]\n",
    "}\n"
   ]
  },
  {
   "cell_type": "code",
   "execution_count": 186,
   "metadata": {},
   "outputs": [
    {
     "name": "stdout",
     "output_type": "stream",
     "text": [
      "Best Parameters for Random Forest: {'max_depth': 10, 'n_estimators': 200}\n",
      "Best Score for Random Forest: 0.710329181760922\n"
     ]
    }
   ],
   "source": [
    "randomForest_model = MyRandomForest()\n",
    "randomForest_grid = GridSearchCV(estimator=randomForest_model, param_grid=param_grid_random_forest, cv=3, scoring='accuracy')\n",
    "randomForest_grid.fit(x_train, y_train)\n",
    "print(\"Best Parameters for Random Forest:\", randomForest_grid.best_params_)\n",
    "print('Best Score for Random Forest:', randomForest_grid.best_score_) "
   ]
  },
  {
   "cell_type": "code",
   "execution_count": 188,
   "metadata": {},
   "outputs": [
    {
     "name": "stderr",
     "output_type": "stream",
     "text": [
      "/home/hy/.local/lib/python3.8/site-packages/sklearn/model_selection/_search.py:307: UserWarning: The total space of parameters 9 is smaller than n_iter=10. Running 9 iterations. For exhaustive searches, use GridSearchCV.\n",
      "  warnings.warn(\n"
     ]
    },
    {
     "name": "stdout",
     "output_type": "stream",
     "text": [
      "Best Parameters for Random Forest: {'n_estimators': 100, 'max_depth': 5}\n",
      "Best Score for Random Forest: 0.7098576461452625\n"
     ]
    }
   ],
   "source": [
    "randomForest_model2 = MyRandomForest()\n",
    "randomForest_grid = RandomizedSearchCV(estimator=randomForest_model2, param_distributions=param_grid_random_forest, cv=3, scoring='accuracy')\n",
    "randomForest_grid.fit(x_train, y_train)\n",
    "print(\"Best Parameters for Random Forest:\", randomForest_grid.best_params_)\n",
    "print('Best Score for Random Forest:', randomForest_grid.best_score_) "
   ]
  },
  {
   "cell_type": "code",
   "execution_count": 191,
   "metadata": {},
   "outputs": [
    {
     "name": "stdout",
     "output_type": "stream",
     "text": [
      "Best Parameters: {'max_depth': 5, 'min_samples_split': 2, 'n_estimators': 50}\n",
      "Best Accuracy: 0.7208338565867135\n"
     ]
    }
   ],
   "source": [
    "param_grid_random_forest = {\n",
    "    'n_estimators': [50,100,200],\n",
    "    'max_depth': [1, 5, 10]\n",
    "}\n",
    "\n",
    "param_combinations = list(ParameterGrid(param_grid))\n",
    "\n",
    "\n",
    "best_params = None\n",
    "best_accuracy = 0.0\n",
    "\n",
    "# Perform grid search\n",
    "for params in param_combinations:\n",
    "\n",
    "    rf_model = MyRandomForest(**params)\n",
    "    rf_model.fit(x_train, y_train)\n",
    "    \n",
    "\n",
    "    predictions = rf_model.predict(x_val)\n",
    "    \n",
    "    # Calculate accuracy\n",
    "    accuracy = accuracy_score(y_val, predictions)\n",
    "    \n",
    "    if accuracy > best_accuracy:\n",
    "        best_accuracy = accuracy\n",
    "        best_params = params\n",
    "\n",
    "print(\"Best Parameters:\", best_params)\n",
    "print(\"Best Accuracy:\", best_accuracy)"
   ]
  },
  {
   "cell_type": "code",
   "execution_count": 194,
   "metadata": {},
   "outputs": [],
   "source": [
    "rf_acc = 0.7208338565867135"
   ]
  },
  {
   "cell_type": "markdown",
   "metadata": {},
   "source": [
    "### Final System\n",
    "comparing max accuracy i can get by each"
   ]
  },
  {
   "cell_type": "code",
   "execution_count": 201,
   "metadata": {},
   "outputs": [
    {
     "data": {
      "image/png": "[encoded data removed]",
      "text/plain": [
       "<Figure size 1000x600 with 1 Axes>"
      ]
     },
     "metadata": {},
     "output_type": "display_data"
    }
   ],
   "source": [
    "plt.figure(figsize=(10, 6))\n",
    "methods = ['Bagging', 'Boosting', 'Random Forest']\n",
    "accuracies = [bagging_acc*100, boosting_acc*100, rf_acc*100]\n",
    "\n",
    "plt.bar(methods, accuracies, color=['blue', 'red', 'green'])\n",
    "plt.xlabel('Ensemble Methods')\n",
    "plt.ylabel('Accuracy')\n",
    "plt.title('Accuracy Comparison of Ensemble Methods')\n",
    "plt.ylim(0, 100)  # Set the y-axis limit between 0 and 100 for percentage accuracy values\n",
    "plt.show()"
   ]
  },
  {
   "cell_type": "markdown",
   "metadata": {},
   "source": [
    "The accuracies are very close to each other with bagging slightly higher than random forest and both higher than Adaboost"
   ]
  }
 ],
 "metadata": {
  "kernelspec": {
   "display_name": "Python 3",
   "language": "python",
   "name": "python3"
  },
  "language_info": {
   "codemirror_mode": {
    "name": "ipython",
    "version": 3
   },
   "file_extension": ".py",
   "mimetype": "text/x-python",
   "name": "python",
   "nbconvert_exporter": "python",
   "pygments_lexer": "ipython3",
   "version": "3.8.10"
  }
 },
 "nbformat": 4,
 "nbformat_minor": 2
}
